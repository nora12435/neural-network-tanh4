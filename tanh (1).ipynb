{
 "cells": [
  {
   "cell_type": "code",
   "execution_count": 1,
   "id": "76f71cf6-723b-49fc-a16f-c3bcbfcccee0",
   "metadata": {},
   "outputs": [],
   "source": [
    "import random\n",
    "import math"
   ]
  },
  {
   "cell_type": "code",
   "execution_count": 2,
   "id": "d117c1f6-4b0c-46e8-93ca-bbdbab543e86",
   "metadata": {},
   "outputs": [],
   "source": [
    "def tanh(x):\n",
    "    return (math.exp(x) - math.exp(-x)) / (math.exp(x) + math.exp(-x))\n"
   ]
  },
  {
   "cell_type": "code",
   "execution_count": 3,
   "id": "da2e524b-29bd-48ee-8e74-04c0d571b8c4",
   "metadata": {},
   "outputs": [],
   "source": [
    "def tanh(x):\n",
    "    return (math.exp(x) - math.exp(-x)) / (math.exp(x) + math.exp(-x))\n"
   ]
  },
  {
   "cell_type": "code",
   "execution_count": 4,
   "id": "e9d854d7-a2a9-4022-8728-c508552562e1",
   "metadata": {},
   "outputs": [],
   "source": [
    "n_inputs = 2\n",
    "\n",
    "w1 = [random.uniform(-0.5, 0.5) for _ in range(n_inputs)]\n",
    "w2 = [random.uniform(-0.5, 0.5) for _ in range(n_inputs)]\n",
    "\n",
    "b1 = 0.5\n",
    "b2 = 0.7\n",
    "x = [0.6, -0.3]"
   ]
  },
  {
   "cell_type": "code",
   "execution_count": 5,
   "id": "c35d2e8e-8131-47a8-a569-444b795f14d0",
   "metadata": {},
   "outputs": [],
   "source": [
    "h1 = tanh(sum(w1[i] * x[i] for i in range(n_inputs)) + b1)\n",
    "h2 = tanh(sum(w2[i] * x[i] for i in range(n_inputs)) + b2)"
   ]
  },
  {
   "cell_type": "code",
   "execution_count": 7,
   "id": "6cf95df8-0cb0-47f1-8d35-0f197c4cff54",
   "metadata": {},
   "outputs": [],
   "source": [
    "w_out = [random.uniform(-0.5, 0.5) for _ in range(2)]\n",
    "b_out = random.uniform(-0.5, 0.5)\n",
    "\n",
    "output = tanh(w_out[0] * h1 + w_out[1] * h2 + b_out)"
   ]
  },
  {
   "cell_type": "code",
   "execution_count": 8,
   "id": "bbce14ca-3b34-4375-832d-f4c0b23952e9",
   "metadata": {},
   "outputs": [
    {
     "name": "stdout",
     "output_type": "stream",
     "text": [
      "Hidden layer outputs: 0.5173465292552781 0.4589887378395742\n",
      "Final network output: 0.2287794691284282\n"
     ]
    }
   ],
   "source": [
    "print(\"Hidden layer outputs:\", h1, h2)\n",
    "print(\"Final network output:\", output)"
   ]
  },
  {
   "cell_type": "code",
   "execution_count": null,
   "id": "ae04634f-77f9-46f6-b360-bc2ee93842e7",
   "metadata": {},
   "outputs": [],
   "source": []
  }
 ],
 "metadata": {
  "kernelspec": {
   "display_name": "Python 3 (ipykernel)",
   "language": "python",
   "name": "python3"
  },
  "language_info": {
   "codemirror_mode": {
    "name": "ipython",
    "version": 3
   },
   "file_extension": ".py",
   "mimetype": "text/x-python",
   "name": "python",
   "nbconvert_exporter": "python",
   "pygments_lexer": "ipython3",
   "version": "3.11.9"
  }
 },
 "nbformat": 4,
 "nbformat_minor": 5
}
